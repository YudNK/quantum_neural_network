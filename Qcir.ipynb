{
 "cells": [
  {
   "cell_type": "code",
   "execution_count": 71,
   "metadata": {},
   "outputs": [],
   "source": [
    "from qiskit import QuantumRegister, ClassicalRegister, QuantumCircuit\n",
    "from qiskit import IBMQ, Aer, execute\n",
    "import random\n",
    "import numpy as np\n",
    "from math import pi\n",
    "#IBMQ.load_account()"
   ]
  },
  {
   "cell_type": "code",
   "execution_count": 80,
   "metadata": {},
   "outputs": [
    {
     "data": {
      "image/png": "[encoded data removed]",
      "text/plain": [
       "<Figure size 698.32x264.88 with 1 Axes>"
      ]
     },
     "execution_count": 80,
     "metadata": {},
     "output_type": "execute_result"
    }
   ],
   "source": [
    "def Qcir(x1, x2, w1, w2):\n",
    "    q = QuantumRegister(3, 'q')\n",
    "    c = ClassicalRegister(1, 'c')\n",
    "    qc = QuantumCircuit(q, c)\n",
    "    \n",
    "    qc.h(q[0])\n",
    "    qc.h(q[1])\n",
    "    qc.u1(x1, q[0])\n",
    "    qc.u1(x2, q[1])\n",
    "    qc.cx(q[0], q[1])\n",
    "    \n",
    "    qc.u1(w1, q[0])\n",
    "    qc.u1(w2, q[1])\n",
    "    \n",
    "    qc.cx(q[0], q[1])\n",
    "    \n",
    "    qc.h(q[0])\n",
    "    qc.h(q[1])\n",
    "    qc.x(q[0])\n",
    "    qc.x(q[1])\n",
    "    \n",
    "    qc.ccx(q[0], q[1], q[2])\n",
    "    \n",
    "    \n",
    "    qc.measure(q[2], c[0])\n",
    "    \n",
    "    return qc\n",
    "\n",
    "qc = Qcir(1, 2, 3, 4)\n",
    "qc.draw(output='mpl')\n"
   ]
  },
  {
   "cell_type": "code",
   "execution_count": 87,
   "metadata": {},
   "outputs": [],
   "source": [
    "def gendata(num):\n",
    "        ret = []\n",
    "        for i in range(num):\n",
    "            x1 = random.uniform(-1, 1)\n",
    "            x2 = random.uniform(-1, 1)\n",
    "            if x1 * x2 >= 0:\n",
    "                y = 1\n",
    "            else:\n",
    "                y = 0\n",
    "            ret.append((x1, x2, y))\n",
    "        return ret\n",
    "train = gendata(100)\n",
    "test = gendata(100)"
   ]
  },
  {
   "cell_type": "code",
   "execution_count": 88,
   "metadata": {},
   "outputs": [
    {
     "data": {
      "text/plain": [
       "0.54"
      ]
     },
     "execution_count": 88,
     "metadata": {},
     "output_type": "execute_result"
    }
   ],
   "source": [
    "def evaluate(w1, w2, data):\n",
    "    c = 0\n",
    "    for x1, x2, y in data:\n",
    "        qc = Qcir(x1, x2, w1, w2)\n",
    "        backend = Aer.get_backend('qasm_simulator')\n",
    "        job = execute(qc, backend, shots=1024)\n",
    "        result = job.result()\n",
    "        count =result.get_counts()\n",
    "        if '1' not in count:\n",
    "            z = 0\n",
    "        elif '0' not in count:\n",
    "            z = 1\n",
    "        elif count['0'] > count['1']:\n",
    "            z = 0\n",
    "        else:\n",
    "            z = 1\n",
    "        # print('expected', y, ', actual', z)\n",
    "        if y == z:\n",
    "            c += 1\n",
    "    return c / len(data)\n",
    "\n",
    "evaluate(2, 0.5, train)"
   ]
  },
  {
   "cell_type": "code",
   "execution_count": 89,
   "metadata": {},
   "outputs": [],
   "source": [
    "def search(step):\n",
    "    result = []\n",
    "    W = np.arange(-pi, pi, step)\n",
    "    for w1 in W:\n",
    "        for w2 in W:\n",
    "            result.append((evaluate(w1, w2, train), w1, w2))\n",
    "            print(result[-1])\n",
    "    return result"
   ]
  },
  {
   "cell_type": "code",
   "execution_count": 90,
   "metadata": {},
   "outputs": [
    {
     "name": "stdout",
     "output_type": "stream",
     "text": [
      "(0.51, -3.141592653589793, -3.141592653589793)\n",
      "(0.51, -3.141592653589793, -2.141592653589793)\n",
      "(0.51, -3.141592653589793, -1.1415926535897931)\n",
      "(0.51, -3.141592653589793, -0.14159265358979312)\n",
      "(0.51, -3.141592653589793, 0.8584073464102069)\n",
      "(0.51, -3.141592653589793, 1.8584073464102069)\n",
      "(0.51, -3.141592653589793, 2.858407346410207)\n",
      "(0.51, -2.141592653589793, -3.141592653589793)\n",
      "(0.51, -2.141592653589793, -2.141592653589793)\n",
      "(0.51, -2.141592653589793, -1.1415926535897931)\n",
      "(0.49, -2.141592653589793, -0.14159265358979312)\n",
      "(0.49, -2.141592653589793, 0.8584073464102069)\n",
      "(0.51, -2.141592653589793, 1.8584073464102069)\n",
      "(0.51, -2.141592653589793, 2.858407346410207)\n",
      "(0.51, -1.1415926535897931, -3.141592653589793)\n",
      "(0.51, -1.1415926535897931, -2.141592653589793)\n",
      "(0.49, -1.1415926535897931, -1.1415926535897931)\n",
      "(0.47, -1.1415926535897931, -0.14159265358979312)\n",
      "(0.44, -1.1415926535897931, 0.8584073464102069)\n",
      "(0.51, -1.1415926535897931, 1.8584073464102069)\n",
      "(0.51, -1.1415926535897931, 2.858407346410207)\n",
      "(0.51, -0.14159265358979312, -3.141592653589793)\n",
      "(0.51, -0.14159265358979312, -2.141592653589793)\n",
      "(0.48, -0.14159265358979312, -1.1415926535897931)\n",
      "(0.49, -0.14159265358979312, -0.14159265358979312)\n",
      "(0.49, -0.14159265358979312, 0.8584073464102069)\n",
      "(0.51, -0.14159265358979312, 1.8584073464102069)\n",
      "(0.51, -0.14159265358979312, 2.858407346410207)\n",
      "(0.51, 0.8584073464102069, -3.141592653589793)\n",
      "(0.51, 0.8584073464102069, -2.141592653589793)\n",
      "(0.58, 0.8584073464102069, -1.1415926535897931)\n",
      "(0.52, 0.8584073464102069, -0.14159265358979312)\n",
      "(0.55, 0.8584073464102069, 0.8584073464102069)\n",
      "(0.51, 0.8584073464102069, 1.8584073464102069)\n",
      "(0.51, 0.8584073464102069, 2.858407346410207)\n",
      "(0.51, 1.8584073464102069, -3.141592653589793)\n",
      "(0.51, 1.8584073464102069, -2.141592653589793)\n",
      "(0.49, 1.8584073464102069, -1.1415926535897931)\n",
      "(0.5, 1.8584073464102069, -0.14159265358979312)\n",
      "(0.53, 1.8584073464102069, 0.8584073464102069)\n",
      "(0.51, 1.8584073464102069, 1.8584073464102069)\n",
      "(0.51, 1.8584073464102069, 2.858407346410207)\n",
      "(0.51, 2.858407346410207, -3.141592653589793)\n",
      "(0.51, 2.858407346410207, -2.141592653589793)\n",
      "(0.51, 2.858407346410207, -1.1415926535897931)\n",
      "(0.51, 2.858407346410207, -0.14159265358979312)\n",
      "(0.51, 2.858407346410207, 0.8584073464102069)\n",
      "(0.51, 2.858407346410207, 1.8584073464102069)\n",
      "(0.51, 2.858407346410207, 2.858407346410207)\n"
     ]
    }
   ],
   "source": [
    "result = search(1)"
   ]
  },
  {
   "cell_type": "code",
   "execution_count": 91,
   "metadata": {},
   "outputs": [
    {
     "name": "stdout",
     "output_type": "stream",
     "text": [
      "(0.58, 0.8584073464102069, -1.1415926535897931)\n"
     ]
    }
   ],
   "source": [
    "m = max(result)\n",
    "print(m)"
   ]
  },
  {
   "cell_type": "code",
   "execution_count": 92,
   "metadata": {},
   "outputs": [
    {
     "data": {
      "text/plain": [
       "0.49"
      ]
     },
     "execution_count": 92,
     "metadata": {},
     "output_type": "execute_result"
    }
   ],
   "source": [
    "evaluate(m[1], m[2], test)"
   ]
  },
  {
   "cell_type": "code",
   "execution_count": null,
   "metadata": {},
   "outputs": [],
   "source": []
  }
 ],
 "metadata": {
  "kernelspec": {
   "display_name": "Python 3",
   "language": "python",
   "name": "python3"
  },
  "language_info": {
   "codemirror_mode": {
    "name": "ipython",
    "version": 3
   },
   "file_extension": ".py",
   "mimetype": "text/x-python",
   "name": "python",
   "nbconvert_exporter": "python",
   "pygments_lexer": "ipython3",
   "version": "3.7.4"
  }
 },
 "nbformat": 4,
 "nbformat_minor": 2
}
